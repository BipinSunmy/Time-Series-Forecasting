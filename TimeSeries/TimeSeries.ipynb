{
 "cells": [
  {
   "cell_type": "code",
   "execution_count": 2,
   "metadata": {},
   "outputs": [],
   "source": [
    "\"Module Imported\"\n",
    "import pandas as pd\n",
    "from matplotlib import pyplot as p\n",
    "from itertools import islice\n",
    "from sklearn.model_selection import train_test_split\n",
    "from sklearn.tree import DecisionTreeRegressor\n",
    "from sklearn.ensemble import RandomForestRegressor\n",
    "from sklearn.metrics import confusion_matrix,classification_report\n",
    "import numpy as nm\n",
    "import seaborn as sns\n",
    "from sklearn.neighbors import KNeighborsRegressor\n",
    "from sklearn.preprocessing import OneHotEncoder\n",
    "from sklearn.metrics import r2_score\n",
    "from sklearn.metrics import accuracy_score\n",
    "from sklearn.metrics import mean_squared_error\n",
    "from sklearn.linear_model import LinearRegression\n",
    "from sklearn.ensemble import GradientBoostingRegressor\n",
    "import inspect\n",
    "from matplotlib.animation import FuncAnimation\n"
   ]
  },
  {
   "cell_type": "code",
   "execution_count": 3,
   "metadata": {},
   "outputs": [
    {
     "data": {
      "text/html": [
       "<div>\n",
       "<style scoped>\n",
       "    .dataframe tbody tr th:only-of-type {\n",
       "        vertical-align: middle;\n",
       "    }\n",
       "\n",
       "    .dataframe tbody tr th {\n",
       "        vertical-align: top;\n",
       "    }\n",
       "\n",
       "    .dataframe thead th {\n",
       "        text-align: right;\n",
       "    }\n",
       "</style>\n",
       "<table border=\"1\" class=\"dataframe\">\n",
       "  <thead>\n",
       "    <tr style=\"text-align: right;\">\n",
       "      <th></th>\n",
       "      <th>target</th>\n",
       "      <th>item_id</th>\n",
       "    </tr>\n",
       "  </thead>\n",
       "  <tbody>\n",
       "    <tr>\n",
       "      <th>2021-01-01 00:00:00</th>\n",
       "      <td>-1.3378</td>\n",
       "      <td>A</td>\n",
       "    </tr>\n",
       "    <tr>\n",
       "      <th>2021-01-01 01:00:00</th>\n",
       "      <td>-1.6111</td>\n",
       "      <td>A</td>\n",
       "    </tr>\n",
       "    <tr>\n",
       "      <th>2021-01-01 02:00:00</th>\n",
       "      <td>-1.9259</td>\n",
       "      <td>A</td>\n",
       "    </tr>\n",
       "    <tr>\n",
       "      <th>2021-01-01 03:00:00</th>\n",
       "      <td>-1.9184</td>\n",
       "      <td>A</td>\n",
       "    </tr>\n",
       "    <tr>\n",
       "      <th>2021-01-01 04:00:00</th>\n",
       "      <td>-1.9168</td>\n",
       "      <td>A</td>\n",
       "    </tr>\n",
       "    <tr>\n",
       "      <th>...</th>\n",
       "      <td>...</td>\n",
       "      <td>...</td>\n",
       "    </tr>\n",
       "    <tr>\n",
       "      <th>2021-01-10 19:00:00</th>\n",
       "      <td>1.2349</td>\n",
       "      <td>J</td>\n",
       "    </tr>\n",
       "    <tr>\n",
       "      <th>2021-01-10 20:00:00</th>\n",
       "      <td>1.1525</td>\n",
       "      <td>J</td>\n",
       "    </tr>\n",
       "    <tr>\n",
       "      <th>2021-01-10 21:00:00</th>\n",
       "      <td>1.1485</td>\n",
       "      <td>J</td>\n",
       "    </tr>\n",
       "    <tr>\n",
       "      <th>2021-01-10 22:00:00</th>\n",
       "      <td>1.3248</td>\n",
       "      <td>J</td>\n",
       "    </tr>\n",
       "    <tr>\n",
       "      <th>2021-01-10 23:00:00</th>\n",
       "      <td>1.1657</td>\n",
       "      <td>J</td>\n",
       "    </tr>\n",
       "  </tbody>\n",
       "</table>\n",
       "<p>2400 rows × 2 columns</p>\n",
       "</div>"
      ],
      "text/plain": [
       "                     target item_id\n",
       "2021-01-01 00:00:00 -1.3378       A\n",
       "2021-01-01 01:00:00 -1.6111       A\n",
       "2021-01-01 02:00:00 -1.9259       A\n",
       "2021-01-01 03:00:00 -1.9184       A\n",
       "2021-01-01 04:00:00 -1.9168       A\n",
       "...                     ...     ...\n",
       "2021-01-10 19:00:00  1.2349       J\n",
       "2021-01-10 20:00:00  1.1525       J\n",
       "2021-01-10 21:00:00  1.1485       J\n",
       "2021-01-10 22:00:00  1.3248       J\n",
       "2021-01-10 23:00:00  1.1657       J\n",
       "\n",
       "[2400 rows x 2 columns]"
      ]
     },
     "execution_count": 3,
     "metadata": {},
     "output_type": "execute_result"
    }
   ],
   "source": [
    "\"Load & Read file.csv\"\n",
    "path = \"C:/Users/bipin/Downloads/ts_long.csv\"\n",
    "df = pd.read_csv(path,parse_dates=True,index_col=0)\n",
    "for i in df.columns:\n",
    "    if  pd.api.types.is_string_dtype(df[i]) == False:\n",
    "        df[i] = df[i].astype('float')\n",
    "d = pd.DataFrame(df)\n",
    "d.dropna(axis=0)"
   ]
  },
  {
   "cell_type": "code",
   "execution_count": 4,
   "metadata": {},
   "outputs": [],
   "source": [
    "\"Extraction of features\"\n",
    "d.index = pd.to_datetime(df.index)\n",
    "d['Day'] = df.index.day\n",
    "d['date'] = df.index.date\n",
    "d['hour'] = df.index.hour\n",
    "d['Quarter'] = df.index.quarter"
   ]
  },
  {
   "cell_type": "code",
   "execution_count": 5,
   "metadata": {},
   "outputs": [
    {
     "data": {
      "text/html": [
       "<div>\n",
       "<style scoped>\n",
       "    .dataframe tbody tr th:only-of-type {\n",
       "        vertical-align: middle;\n",
       "    }\n",
       "\n",
       "    .dataframe tbody tr th {\n",
       "        vertical-align: top;\n",
       "    }\n",
       "\n",
       "    .dataframe thead th {\n",
       "        text-align: right;\n",
       "    }\n",
       "</style>\n",
       "<table border=\"1\" class=\"dataframe\">\n",
       "  <thead>\n",
       "    <tr style=\"text-align: right;\">\n",
       "      <th></th>\n",
       "      <th>target</th>\n",
       "      <th>item_id</th>\n",
       "      <th>Day</th>\n",
       "      <th>date</th>\n",
       "      <th>hour</th>\n",
       "      <th>Quarter</th>\n",
       "    </tr>\n",
       "  </thead>\n",
       "  <tbody>\n",
       "    <tr>\n",
       "      <th>2021-01-09 01:00:00</th>\n",
       "      <td>-1.6403</td>\n",
       "      <td>A</td>\n",
       "      <td>9</td>\n",
       "      <td>2021-01-09</td>\n",
       "      <td>1</td>\n",
       "      <td>1</td>\n",
       "    </tr>\n",
       "    <tr>\n",
       "      <th>2021-01-06 05:00:00</th>\n",
       "      <td>-0.1931</td>\n",
       "      <td>B</td>\n",
       "      <td>6</td>\n",
       "      <td>2021-01-06</td>\n",
       "      <td>5</td>\n",
       "      <td>1</td>\n",
       "    </tr>\n",
       "    <tr>\n",
       "      <th>2021-01-06 19:00:00</th>\n",
       "      <td>0.2035</td>\n",
       "      <td>F</td>\n",
       "      <td>6</td>\n",
       "      <td>2021-01-06</td>\n",
       "      <td>19</td>\n",
       "      <td>1</td>\n",
       "    </tr>\n",
       "    <tr>\n",
       "      <th>2021-01-01 07:00:00</th>\n",
       "      <td>-0.8851</td>\n",
       "      <td>J</td>\n",
       "      <td>1</td>\n",
       "      <td>2021-01-01</td>\n",
       "      <td>7</td>\n",
       "      <td>1</td>\n",
       "    </tr>\n",
       "    <tr>\n",
       "      <th>2021-01-01 12:00:00</th>\n",
       "      <td>0.3672</td>\n",
       "      <td>D</td>\n",
       "      <td>1</td>\n",
       "      <td>2021-01-01</td>\n",
       "      <td>12</td>\n",
       "      <td>1</td>\n",
       "    </tr>\n",
       "    <tr>\n",
       "      <th>...</th>\n",
       "      <td>...</td>\n",
       "      <td>...</td>\n",
       "      <td>...</td>\n",
       "      <td>...</td>\n",
       "      <td>...</td>\n",
       "      <td>...</td>\n",
       "    </tr>\n",
       "    <tr>\n",
       "      <th>2021-01-10 08:00:00</th>\n",
       "      <td>0.2948</td>\n",
       "      <td>A</td>\n",
       "      <td>10</td>\n",
       "      <td>2021-01-10</td>\n",
       "      <td>8</td>\n",
       "      <td>1</td>\n",
       "    </tr>\n",
       "    <tr>\n",
       "      <th>2021-01-02 22:00:00</th>\n",
       "      <td>-0.7159</td>\n",
       "      <td>H</td>\n",
       "      <td>2</td>\n",
       "      <td>2021-01-02</td>\n",
       "      <td>22</td>\n",
       "      <td>1</td>\n",
       "    </tr>\n",
       "    <tr>\n",
       "      <th>2021-01-05 18:00:00</th>\n",
       "      <td>1.3518</td>\n",
       "      <td>F</td>\n",
       "      <td>5</td>\n",
       "      <td>2021-01-05</td>\n",
       "      <td>18</td>\n",
       "      <td>1</td>\n",
       "    </tr>\n",
       "    <tr>\n",
       "      <th>2021-01-05 16:00:00</th>\n",
       "      <td>1.5773</td>\n",
       "      <td>H</td>\n",
       "      <td>5</td>\n",
       "      <td>2021-01-05</td>\n",
       "      <td>16</td>\n",
       "      <td>1</td>\n",
       "    </tr>\n",
       "    <tr>\n",
       "      <th>2021-01-06 05:00:00</th>\n",
       "      <td>0.4513</td>\n",
       "      <td>E</td>\n",
       "      <td>6</td>\n",
       "      <td>2021-01-06</td>\n",
       "      <td>5</td>\n",
       "      <td>1</td>\n",
       "    </tr>\n",
       "  </tbody>\n",
       "</table>\n",
       "<p>2400 rows × 6 columns</p>\n",
       "</div>"
      ],
      "text/plain": [
       "                     target item_id  Day        date  hour  Quarter\n",
       "2021-01-09 01:00:00 -1.6403       A    9  2021-01-09     1        1\n",
       "2021-01-06 05:00:00 -0.1931       B    6  2021-01-06     5        1\n",
       "2021-01-06 19:00:00  0.2035       F    6  2021-01-06    19        1\n",
       "2021-01-01 07:00:00 -0.8851       J    1  2021-01-01     7        1\n",
       "2021-01-01 12:00:00  0.3672       D    1  2021-01-01    12        1\n",
       "...                     ...     ...  ...         ...   ...      ...\n",
       "2021-01-10 08:00:00  0.2948       A   10  2021-01-10     8        1\n",
       "2021-01-02 22:00:00 -0.7159       H    2  2021-01-02    22        1\n",
       "2021-01-05 18:00:00  1.3518       F    5  2021-01-05    18        1\n",
       "2021-01-05 16:00:00  1.5773       H    5  2021-01-05    16        1\n",
       "2021-01-06 05:00:00  0.4513       E    6  2021-01-06     5        1\n",
       "\n",
       "[2400 rows x 6 columns]"
      ]
     },
     "execution_count": 5,
     "metadata": {},
     "output_type": "execute_result"
    }
   ],
   "source": [
    "ds = d.sample(frac=1)\n",
    "y_data = [x for x in ds['target']]\n",
    "ds"
   ]
  },
  {
   "cell_type": "code",
   "execution_count": 6,
   "metadata": {},
   "outputs": [],
   "source": [
    "\"Splitting of train and test data\"\n",
    "df = ds.drop(['target'],axis=1)\n",
    "y_data = pd.DataFrame(y_data,columns=['target'])\n",
    "df = pd.get_dummies(df)\n",
    "x_train,x_test,y_train,y_test = train_test_split(df,y_data,test_size=0.1)\n",
    "y_train = y_train.to_numpy()\n",
    "y_test = y_test.to_numpy()\n",
    "\n",
    "y_train = y_train.ravel()\n",
    "y_test = y_test.ravel()"
   ]
  },
  {
   "cell_type": "code",
   "execution_count": 7,
   "metadata": {},
   "outputs": [
    {
     "data": {
      "text/plain": [
       "0.9385690498186108"
      ]
     },
     "execution_count": 7,
     "metadata": {},
     "output_type": "execute_result"
    }
   ],
   "source": [
    "\"Random Forest Regressor\"  \n",
    "def Random(x_train,y_train,x_test,y_test):  \n",
    "    model = RandomForestRegressor()\n",
    "    model.fit(x_train,y_train)\n",
    "    prec = model.predict(x_test) \n",
    "    return r2_score(y_true=y_test,y_pred=prec)\n",
    "Random(x_train=x_train,y_train=y_train,x_test=x_test,y_test=y_test)"
   ]
  },
  {
   "cell_type": "code",
   "execution_count": 8,
   "metadata": {},
   "outputs": [
    {
     "data": {
      "text/plain": [
       "0.7702952715025828"
      ]
     },
     "execution_count": 8,
     "metadata": {},
     "output_type": "execute_result"
    }
   ],
   "source": [
    "\"Decision Tree Regressor\"\n",
    "def Tree(x_train,y_train,x_test,y_test):  \n",
    "    model = DecisionTreeRegressor()\n",
    "    model.fit(x_train,y_train)\n",
    "    prec = model.predict(x_test) \n",
    "    return r2_score(y_true=y_test,y_pred=prec)\n",
    "Tree(x_train=x_train,y_train=y_train,x_test=x_test,y_test=y_test)"
   ]
  },
  {
   "cell_type": "code",
   "execution_count": 9,
   "metadata": {},
   "outputs": [
    {
     "data": {
      "text/plain": [
       "0.34800910121221984"
      ]
     },
     "execution_count": 9,
     "metadata": {},
     "output_type": "execute_result"
    }
   ],
   "source": [
    "\"KNeighbors Regressor\"\n",
    "def Kn(x_train,y_train,x_test,y_test):  \n",
    "    model = KNeighborsRegressor()\n",
    "    model.fit(x_train,y_train)\n",
    "    prec = model.predict(x_test) \n",
    "    return r2_score(y_true=y_test,y_pred=prec)\n",
    "Kn(x_train=x_train,y_train=y_train,x_test=x_test,y_test=y_test)"
   ]
  },
  {
   "cell_type": "code",
   "execution_count": 10,
   "metadata": {},
   "outputs": [
    {
     "data": {
      "text/plain": [
       "0.426649290372911"
      ]
     },
     "execution_count": 10,
     "metadata": {},
     "output_type": "execute_result"
    }
   ],
   "source": [
    "\"GradientBoostingRegressor\"\n",
    "def Gb(x_train,y_train,x_test,y_test):  \n",
    "    model = GradientBoostingRegressor()\n",
    "    model.fit(x_train,y_train)\n",
    "    prec = model.predict(x_test) \n",
    "    return r2_score(y_true=y_test,y_pred=prec)\n",
    "Gb(x_train=x_train,y_train=y_train,x_test=x_test,y_test=y_test)"
   ]
  },
  {
   "cell_type": "code",
   "execution_count": null,
   "metadata": {},
   "outputs": [],
   "source": []
  },
  {
   "cell_type": "code",
   "execution_count": null,
   "metadata": {},
   "outputs": [],
   "source": []
  },
  {
   "cell_type": "code",
   "execution_count": null,
   "metadata": {},
   "outputs": [],
   "source": []
  },
  {
   "cell_type": "code",
   "execution_count": null,
   "metadata": {},
   "outputs": [],
   "source": []
  }
 ],
 "metadata": {
  "kernelspec": {
   "display_name": "base",
   "language": "python",
   "name": "python3"
  },
  "language_info": {
   "codemirror_mode": {
    "name": "ipython",
    "version": 3
   },
   "file_extension": ".py",
   "mimetype": "text/x-python",
   "name": "python",
   "nbconvert_exporter": "python",
   "pygments_lexer": "ipython3",
   "version": "3.9.19"
  }
 },
 "nbformat": 4,
 "nbformat_minor": 2
}
